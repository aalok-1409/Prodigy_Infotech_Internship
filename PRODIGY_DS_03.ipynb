{
  "nbformat": 4,
  "nbformat_minor": 0,
  "metadata": {
    "colab": {
      "provenance": [],
      "authorship_tag": "ABX9TyOvIBd0yCLj73GRb7sAYhzs",
      "include_colab_link": true
    },
    "kernelspec": {
      "name": "python3",
      "display_name": "Python 3"
    },
    "language_info": {
      "name": "python"
    }
  },
  "cells": [
    {
      "cell_type": "markdown",
      "metadata": {
        "id": "view-in-github",
        "colab_type": "text"
      },
      "source": [
        "<a href=\"https://colab.research.google.com/github/aalok-1409/Prodigy_Infotech_Internship/blob/main/PRODIGY_DS_03.ipynb\" target=\"_parent\"><img src=\"https://colab.research.google.com/assets/colab-badge.svg\" alt=\"Open In Colab\"/></a>"
      ]
    },
    {
      "cell_type": "code",
      "execution_count": null,
      "metadata": {
        "id": "SefO3am_h3Co"
      },
      "outputs": [],
      "source": [
        "import pandas as pd\n",
        "from sklearn.model_selection import train_test_split\n",
        "from sklearn.preprocessing import LabelEncoder\n",
        "from sklearn.tree import DecisionTreeClassifier, plot_tree\n",
        "from sklearn.metrics import classification_report, confusion_matrix, accuracy_score\n",
        "import matplotlib.pyplot as plt\n",
        "import seaborn as sns\n",
        "import requests\n",
        "import zipfile\n",
        "import io\n",
        "\n",
        "# Step 1: Download the dataset ZIP file\n",
        "url = \"https://archive.ics.uci.edu/ml/machine-learning-databases/00222/bank-additional.zip\"\n",
        "response = requests.get(url)\n",
        "\n",
        "# Step 2: Extract the desired CSV from the ZIP file\n",
        "with zipfile.ZipFile(io.BytesIO(response.content)) as z:\n",
        "    # Find the main data file (it's 'bank-additional-full.csv' in this zip)\n",
        "    with z.open('bank-additional/bank-additional-full.csv') as f:\n",
        "        df = pd.read_csv(f, sep=';')\n",
        "\n",
        "\n",
        "# Step 3: Encode categorical columns\n",
        "df_encoded = df.copy()\n",
        "label_encoders = {}\n",
        "for column in df_encoded.select_dtypes(include='object').columns:\n",
        "    le = LabelEncoder()\n",
        "    df_encoded[column] = le.fit_transform(df_encoded[column])\n",
        "    label_encoders[column] = le\n",
        "\n",
        "# Step 4: Split data\n",
        "X = df_encoded.drop('y', axis=1)\n",
        "y = df_encoded['y']  # Target variable: y (0 = No, 1 = Yes)\n",
        "\n",
        "X_train, X_test, y_train, y_test = train_test_split(X, y, test_size=0.2, random_state=42)\n",
        "\n",
        "# Step 5: Train decision tree\n",
        "clf = DecisionTreeClassifier(criterion='entropy', max_depth=5, random_state=42)\n",
        "clf.fit(X_train, y_train)\n",
        "\n",
        "# Step 6: Predict and Evaluate\n",
        "y_pred = clf.predict(X_test)\n",
        "\n",
        "print(\"\\nAccuracy:\", accuracy_score(y_test, y_pred))\n",
        "print(\"\\nConfusion Matrix:\\n\", confusion_matrix(y_test, y_pred))\n",
        "print(\"\\nClassification Report:\\n\", classification_report(y_test, y_pred))\n",
        "\n",
        "# Step 7: Visualize the tree\n",
        "plt.figure(figsize=(20, 10))\n",
        "plot_tree(clf, feature_names=X.columns, class_names=['No', 'Yes'], filled=True, rounded=True)\n",
        "plt.title(\"Decision Tree - Bank Marketing\")\n",
        "plt.show()\n",
        "\n",
        "# Step 8: Feature Importance\n",
        "plt.figure(figsize=(12, 6))\n",
        "sns.barplot(x=clf.feature_importances_, y=X.columns)\n",
        "plt.title(\"Feature Importance in Decision Tree\")\n",
        "plt.show()"
      ]
    }
  ]
}