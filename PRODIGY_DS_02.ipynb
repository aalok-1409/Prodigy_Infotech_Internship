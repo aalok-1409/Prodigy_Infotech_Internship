{
  "nbformat": 4,
  "nbformat_minor": 0,
  "metadata": {
    "colab": {
      "provenance": [],
      "authorship_tag": "ABX9TyOeiBKKnEQAxbgdjkvyCZVJ",
      "include_colab_link": true
    },
    "kernelspec": {
      "name": "python3",
      "display_name": "Python 3"
    },
    "language_info": {
      "name": "python"
    }
  },
  "cells": [
    {
      "cell_type": "markdown",
      "metadata": {
        "id": "view-in-github",
        "colab_type": "text"
      },
      "source": [
        "<a href=\"https://colab.research.google.com/github/aalok-1409/Prodigy_Infotech_Internship/blob/main/PRODIGY_DS_02.ipynb\" target=\"_parent\"><img src=\"https://colab.research.google.com/assets/colab-badge.svg\" alt=\"Open In Colab\"/></a>"
      ]
    },
    {
      "cell_type": "code",
      "execution_count": null,
      "metadata": {
        "id": "h_6tEMj0hhep"
      },
      "outputs": [],
      "source": [
        "# Required libraries\n",
        "import pandas as pd\n",
        "import seaborn as sns\n",
        "import matplotlib.pyplot as plt\n",
        "\n",
        "# Load Titanic dataset\n",
        "url = 'https://raw.githubusercontent.com/datasciencedojo/datasets/master/titanic.csv'\n",
        "df = pd.read_csv(url)\n",
        "\n",
        "# 1. Initial Overview\n",
        "print(\"Shape:\", df.shape)\n",
        "print(\"\\nInfo:\")\n",
        "print(df.info())\n",
        "print(\"\\nMissing Values:\\n\", df.isnull().sum())\n",
        "\n",
        "# 2. Data Cleaning\n",
        "# Fill missing Age with median\n",
        "df['Age'] = df['Age'].fillna(df['Age'].median())\n",
        "# Fill Embarked with mode\n",
        "df['Embarked'] = df['Embarked'].fillna(df['Embarked'].mode()[0])\n",
        "# Drop Cabin due to too many missing values\n",
        "df = df.drop(columns='Cabin')\n",
        "\n",
        "# 3. Basic Stats\n",
        "print(\"\\nDescribe:\\n\", df.describe(include='all'))\n",
        "\n",
        "# 4. Visualization: Survival Count\n",
        "sns.countplot(data=df, x='Survived')\n",
        "plt.title(\"Survival Count\")\n",
        "plt.show()\n",
        "\n",
        "# 5. Survival by Gender\n",
        "sns.countplot(data=df, x='Survived', hue='Sex')\n",
        "plt.title(\"Survival by Gender\")\n",
        "plt.show()\n",
        "\n",
        "# 6. Survival by Pclass\n",
        "sns.countplot(data=df, x='Survived', hue='Pclass')\n",
        "plt.title(\"Survival by Passenger Class\")\n",
        "plt.show()\n",
        "\n",
        "# 7. Age Distribution\n",
        "plt.figure(figsize=(10, 6))\n",
        "sns.histplot(df['Age'], bins=30, kde=True)\n",
        "plt.title(\"Age Distribution\")\n",
        "plt.show()\n",
        "\n",
        "# 8. Heatmap of Correlation\n",
        "plt.figure(figsize=(8, 6))\n",
        "sns.heatmap(df.corr(numeric_only=True), annot=True, cmap='coolwarm')\n",
        "plt.title(\"Correlation Matrix\")\n",
        "plt.show()\n",
        "\n",
        "# 9. Fare vs Survival\n",
        "sns.boxplot(x='Survived', y='Fare', data=df)\n",
        "plt.title(\"Fare vs Survival\")\n",
        "plt.show()"
      ]
    }
  ]
}