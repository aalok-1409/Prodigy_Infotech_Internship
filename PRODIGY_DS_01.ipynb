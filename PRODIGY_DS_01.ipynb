{
  "nbformat": 4,
  "nbformat_minor": 0,
  "metadata": {
    "colab": {
      "provenance": [],
      "authorship_tag": "ABX9TyOYoMImqCsJmSeUgL1PsPhM",
      "include_colab_link": true
    },
    "kernelspec": {
      "name": "python3",
      "display_name": "Python 3"
    },
    "language_info": {
      "name": "python"
    }
  },
  "cells": [
    {
      "cell_type": "markdown",
      "metadata": {
        "id": "view-in-github",
        "colab_type": "text"
      },
      "source": [
        "<a href=\"https://colab.research.google.com/github/aalok-1409/Prodigy_Infotech_Internship/blob/main/PRODIGY_DS_01.ipynb\" target=\"_parent\"><img src=\"https://colab.research.google.com/assets/colab-badge.svg\" alt=\"Open In Colab\"/></a>"
      ]
    },
    {
      "cell_type": "code",
      "execution_count": null,
      "metadata": {
        "id": "NHmNBHfYgiVF"
      },
      "outputs": [],
      "source": [
        "import pandas as pd\n",
        "import matplotlib.pyplot as plt\n",
        "import seaborn as sns\n",
        "import zipfile\n",
        "import requests\n",
        "import io\n",
        "\n",
        "# Step 1: Download the dataset ZIP file from the World Bank\n",
        "url = \"https://api.worldbank.org/v2/en/indicator/SP.POP.TOTL?downloadformat=csv\"\n",
        "response = requests.get(url)\n",
        "\n",
        "# Step 2: Extract the CSV from the ZIP file\n",
        "with zipfile.ZipFile(io.BytesIO(response.content)) as z:\n",
        "    # Find the main data file (it usually starts with 'API_')\n",
        "    for filename in z.namelist():\n",
        "        if filename.startswith('API_SP.POP.TOTL_DS2') and filename.endswith('.csv'):\n",
        "            with z.open(filename) as f:\n",
        "                df = pd.read_csv(f, skiprows=4)\n",
        "\n",
        "# Step 3: Select latest available year (example: 2022)\n",
        "df_latest = df[['Country Name', '2022']].dropna()\n",
        "df_latest.columns = ['Country', 'Population']\n",
        "\n",
        "# Step 4: Sort and pick top 10 most populated countries\n",
        "df_top10 = df_latest.sort_values(by='Population', ascending=False).head(10)\n",
        "\n",
        "# Step 5: Plot bar chart\n",
        "plt.figure(figsize=(12, 6))\n",
        "# Add hue=Country and legend=False to address FutureWarning\n",
        "sns.barplot(x='Country', y='Population', data=df_top10, palette='coolwarm', hue='Country', legend=False)\n",
        "\n",
        "\n",
        "plt.title('Top 10 Most Populated Countries (2022)', fontsize=16)\n",
        "plt.xlabel('Country')\n",
        "plt.ylabel('Population')\n",
        "plt.xticks(rotation=45)\n",
        "plt.tight_layout()\n",
        "plt.grid(True, axis='y', linestyle='--', alpha=0.5)\n",
        "plt.show()"
      ]
    }
  ]
}